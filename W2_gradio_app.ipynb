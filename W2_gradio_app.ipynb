{
 "cells": [
  {
   "cell_type": "code",
   "execution_count": 1,
   "metadata": {},
   "outputs": [
    {
     "name": "stderr",
     "output_type": "stream",
     "text": [
      "c:\\Users\\vuvee\\anaconda3\\envs\\dev\\Lib\\site-packages\\tqdm\\auto.py:21: TqdmWarning: IProgress not found. Please update jupyter and ipywidgets. See https://ipywidgets.readthedocs.io/en/stable/user_install.html\n",
      "  from .autonotebook import tqdm as notebook_tqdm\n"
     ]
    }
   ],
   "source": [
    "import gradio as gr\n",
    "import joblib\n",
    "import pytesseract\n",
    "import pandas as pd\n",
    "from PIL import Image\n",
    "import numpy as np"
   ]
  },
  {
   "cell_type": "code",
   "execution_count": 2,
   "metadata": {},
   "outputs": [],
   "source": [
    "# Load the trained KNN model\n",
    "knn_model = joblib.load('ocr_knn_model.pkl')"
   ]
  },
  {
   "cell_type": "code",
   "execution_count": 3,
   "metadata": {},
   "outputs": [],
   "source": [
    "# Define the function to process the image\n",
    "def process_image(image):\n",
    "    \"\"\"\n",
    "    Process the uploaded image, extract text using OCR, and classify document numbers.\n",
    "    \"\"\"\n",
    "    # Convert the uploaded image to a format pytesseract can process\n",
    "    image = Image.fromarray(np.array(image))\n",
    "\n",
    "    # Perform OCR\n",
    "    ocr_data = pytesseract.image_to_data(image, output_type=pytesseract.Output.DICT)\n",
    "    final_df = pd.DataFrame(ocr_data)\n",
    "\n",
    "    # Compute Bounding Box Details\n",
    "    final_df['bottom'] = final_df['top'].astype(int) + final_df['height'].astype(int)\n",
    "    final_df['right'] = final_df['left'].astype(int) + final_df['width'].astype(int)\n",
    "\n",
    "    # Select feature columns\n",
    "    feature_columns = [\"left\", \"top\", \"width\", \"height\", \"bottom\", \"right\"]\n",
    "    X_test = final_df[feature_columns].astype(int)\n",
    "\n",
    "    # Predict the labels for the text\n",
    "    final_df[\"predicted_label\"] = knn_model.predict(X_test)\n",
    "\n",
    "    # Gather all records labeled as 1 and convert the list into a string\n",
    "    address = ' '.join(final_df.loc[final_df['predicted_label'] == 1, 'text'].to_list())\n",
    "\n",
    "    return address"
   ]
  },
  {
   "cell_type": "code",
   "execution_count": 6,
   "metadata": {},
   "outputs": [],
   "source": [
    "# Create Gradio Interface\n",
    "interface = gr.Interface(\n",
    "    fn=process_image,\n",
    "    inputs=gr.Image(type=\"numpy\"),\n",
    "    outputs=\"text\",\n",
    "    title=\"Document OCR & Extraction\",\n",
    "    description=\"Upload an image to extract address using OCR and KNN classification.\"\n",
    ")"
   ]
  },
  {
   "cell_type": "code",
   "execution_count": 7,
   "metadata": {},
   "outputs": [
    {
     "name": "stdout",
     "output_type": "stream",
     "text": [
      "* Running on local URL:  http://127.0.0.1:7861\n",
      "\n",
      "To create a public link, set `share=True` in `launch()`.\n"
     ]
    },
    {
     "data": {
      "text/html": [
       "<div><iframe src=\"http://127.0.0.1:7861/\" width=\"100%\" height=\"500\" allow=\"autoplay; camera; microphone; clipboard-read; clipboard-write;\" frameborder=\"0\" allowfullscreen></iframe></div>"
      ],
      "text/plain": [
       "<IPython.core.display.HTML object>"
      ]
     },
     "metadata": {},
     "output_type": "display_data"
    }
   ],
   "source": [
    "# Run the Gradio app\n",
    "if __name__ == \"__main__\":\n",
    "    interface.launch()"
   ]
  }
 ],
 "metadata": {
  "kernelspec": {
   "display_name": "dev",
   "language": "python",
   "name": "python3"
  },
  "language_info": {
   "codemirror_mode": {
    "name": "ipython",
    "version": 3
   },
   "file_extension": ".py",
   "mimetype": "text/x-python",
   "name": "python",
   "nbconvert_exporter": "python",
   "pygments_lexer": "ipython3",
   "version": "3.12.9"
  }
 },
 "nbformat": 4,
 "nbformat_minor": 2
}
