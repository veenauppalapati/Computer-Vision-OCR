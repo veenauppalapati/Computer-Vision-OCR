{
 "cells": [
  {
   "cell_type": "code",
   "execution_count": 11,
   "metadata": {},
   "outputs": [],
   "source": [
    "import joblib\n",
    "import pytesseract\n",
    "import pandas as pd"
   ]
  },
  {
   "cell_type": "code",
   "execution_count": 12,
   "metadata": {},
   "outputs": [],
   "source": [
    "# Load the saved model\n",
    "knn_model = joblib.load('ocr_knn_model.pkl')"
   ]
  },
  {
   "cell_type": "code",
   "execution_count": null,
   "metadata": {},
   "outputs": [],
   "source": [
    "def process_image(image):\n",
    "\n",
    "    # Perform OCR\n",
    "    ocr_data = pytesseract.image_to_data(image, output_type=pytesseract.Output.DICT)\n",
    "    final_df = pd.DataFrame(ocr_data)\n",
    "\n",
    "\n",
    "    # Compute Bounding Box Details\n",
    "    final_df['bottom'] = final_df['top'] + final_df['height']\n",
    "    final_df['right'] = final_df['left'] + final_df['width']\n",
    "\n",
    "    # Select feature columns\n",
    "    feature_columns = [\"left\", \"top\", \"width\", \"height\", \"bottom\", \"right\"]\n",
    "    X_test = final_df[feature_columns]\n",
    "\n",
    "    # Predict the labels for the text\n",
    "    final_df[\"predicted_label\"] = knn_model.predict(X_test)\n",
    "\n",
    "    # Gather all records labeled as 1 and convert the list into a string\n",
    "    address = ' '.join(final_df.loc[final_df['predicted_label'] == 1]['text'].to_list())\n",
    "\n",
    "    return address\n"
   ]
  },
  {
   "cell_type": "code",
   "execution_count": 14,
   "metadata": {},
   "outputs": [
    {
     "name": "stdout",
     "output_type": "stream",
     "text": [
      "869 Roger Mountains Ryanfurt OK\n"
     ]
    }
   ],
   "source": [
    "if __name__ == \"__main__\": \n",
    "    image_path = \"./Input/W2/Test/W2_XL_input_clean_1035.jpg\"\n",
    "    address = process_image(image_path)\n",
    "    print(address)"
   ]
  }
 ],
 "metadata": {
  "kernelspec": {
   "display_name": "dev",
   "language": "python",
   "name": "python3"
  },
  "language_info": {
   "codemirror_mode": {
    "name": "ipython",
    "version": 3
   },
   "file_extension": ".py",
   "mimetype": "text/x-python",
   "name": "python",
   "nbconvert_exporter": "python",
   "pygments_lexer": "ipython3",
   "version": "3.12.9"
  }
 },
 "nbformat": 4,
 "nbformat_minor": 2
}
