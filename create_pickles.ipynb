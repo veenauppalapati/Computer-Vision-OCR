{
 "cells": [
  {
   "cell_type": "code",
   "execution_count": null,
   "metadata": {},
   "outputs": [],
   "source": [
    "import glob\n",
    "import pickle\n",
    "from pdf2image import convert_from_path"
   ]
  },
  {
   "cell_type": "code",
   "execution_count": 32,
   "metadata": {},
   "outputs": [],
   "source": [
    "folder_path = './Input/w2_samples_multi_clean'\n",
    "output_pickle = \"pdf_imgages.pkl\"\n",
    "\n",
    "files = glob.glob(f\"{folder_path}/*.pdf\")\n",
    "\n",
    "images = []\n",
    "for file in files:\n",
    "    pdf_images = convert_from_path(file, poppler_path=r\"C:\\Program Files\\poppler\\Library\\bin\")\n",
    "    images.append(pdf_images[0])\n",
    "\n",
    "with open(output_pickle, \"wb\") as f:\n",
    "    pickle.dump(images, f)"
   ]
  },
  {
   "cell_type": "code",
   "execution_count": 33,
   "metadata": {},
   "outputs": [
    {
     "data": {
      "text/plain": [
       "1000"
      ]
     },
     "execution_count": 33,
     "metadata": {},
     "output_type": "execute_result"
    }
   ],
   "source": [
    "len(images)"
   ]
  },
  {
   "cell_type": "code",
   "execution_count": 34,
   "metadata": {},
   "outputs": [],
   "source": [
    "folder_path = './Input/set-1'\n",
    "output_pickle = \"BOL_imgages_set1.pkl\"\n",
    "\n",
    "files = glob.glob(f\"{folder_path}/*.pdf\")\n",
    "\n",
    "images = []\n",
    "for file in files:\n",
    "    pdf_images = convert_from_path(file, poppler_path=r\"C:\\Program Files\\poppler\\Library\\bin\")\n",
    "    images.append(pdf_images[0])\n",
    "\n",
    "with open(output_pickle, \"wb\") as f:\n",
    "    pickle.dump(images, f)"
   ]
  }
 ],
 "metadata": {
  "kernelspec": {
   "display_name": "dev",
   "language": "python",
   "name": "python3"
  },
  "language_info": {
   "codemirror_mode": {
    "name": "ipython",
    "version": 3
   },
   "file_extension": ".py",
   "mimetype": "text/x-python",
   "name": "python",
   "nbconvert_exporter": "python",
   "pygments_lexer": "ipython3",
   "version": "3.12.9"
  }
 },
 "nbformat": 4,
 "nbformat_minor": 2
}
